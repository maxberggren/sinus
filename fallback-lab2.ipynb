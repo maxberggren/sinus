{
 "cells": [
  {
   "cell_type": "code",
   "execution_count": 72,
   "metadata": {
    "collapsed": false
   },
   "outputs": [],
   "source": [
    "import pandas as pd\n",
    "from scipy.stats import mode"
   ]
  },
  {
   "cell_type": "code",
   "execution_count": 73,
   "metadata": {
    "collapsed": false
   },
   "outputs": [],
   "source": [
    "df = pd.io.pickle.read_pickle(\"labbDF.pkl\")\n",
    "df['name'] = df.apply(lambda row: row['name'].decode('latin-1'), axis=1)"
   ]
  },
  {
   "cell_type": "code",
   "execution_count": 87,
   "metadata": {
    "collapsed": true
   },
   "outputs": [],
   "source": [
    "\"\"\" Generate fallback map from municipalitys \"\"\"\n",
    "hierarchy = pd.io.excel.read_excel(\"hierarchy.xlsx\")\n",
    "\n",
    "word = \"tipsrunda\"\n",
    "\n",
    "def getMuni(df, level, key):\n",
    "    return df.groupby(level).get_group(key)['Kommun'].unique()\n",
    "\n",
    "def getParent(df, municipality, level):\n",
    "    try:\n",
    "        parent = hierarchy.loc[hierarchy[u'Kommun'] == municipality][level].values[0]\n",
    "        if not parent == \"-\":\n",
    "            munis = getMuni(hierarchy, level, parent)\n",
    "            return parent, mode(df.loc[df['name'].isin(munis)]['bins_'+word])[0][0]\n",
    "        else:\n",
    "            return None, None\n",
    "    except IndexError:\n",
    "        return None, None\n",
    "\n",
    "def updateDF(df, parentLevel):\n",
    "    \"\"\" Find municipalitys with no hits and update according to rule \"\"\"\n",
    "    for muni in df[df['bins_'+word] == -1]['name'].unique():\n",
    "        parent, mean = getParent(df, muni, parentLevel)\n",
    "\n",
    "        # Update municipality with fallback according to rule\n",
    "        if mean and mean != -1:\n",
    "            print df.loc[df['name'] == muni]\n",
    "            df.loc[df['name'] == muni, 'bins_'+word] = mean # Empty dataframe! Unicode problem?\n",
    "            print df.loc[df['name'] == muni]\n",
    "            print muni, \"->\", muni, mean\n",
    "            #print df.loc[df['name'] == key]\n",
    "    return df "
   ]
  },
  {
   "cell_type": "code",
   "execution_count": 88,
   "metadata": {
    "collapsed": false
   },
   "outputs": [
    {
     "name": "stdout",
     "output_type": "stream",
     "text": [
      "     area            name                                               poly  \\\n",
      "0    75.4  Upplands Väsby  POLYGON ((1103922.593170376 1022495.837027514,...   \n",
      "1   359.7      Vallentuna  POLYGON ((1137678.584388074 1024404.619503576,...   \n",
      "2   310.0       Österåker  POLYGON ((1176139.12166001 1033496.310143271, ...   \n",
      "4   438.5          Värmdö  POLYGON ((1164922.989820984 976939.4120838717,...   \n",
      "12   50.7        Järfälla  POLYGON ((1090092.252866263 1014064.051743116,...   \n",
      "\n",
      "    tipsrunda  bins_tipsrunda  \n",
      "0    1.069948               2  \n",
      "1    0.000000              -1  \n",
      "2    0.464148               0  \n",
      "4    0.000000              -1  \n",
      "12   0.326204               0  \n"
     ]
    }
   ],
   "source": [
    "print df.head()"
   ]
  },
  {
   "cell_type": "code",
   "execution_count": 89,
   "metadata": {
    "collapsed": false
   },
   "outputs": [
    {
     "data": {
      "text/plain": [
       "216"
      ]
     },
     "execution_count": 89,
     "metadata": {},
     "output_type": "execute_result"
    }
   ],
   "source": [
    "len(df[df['bins_tipsrunda'] == -1]['bins_tipsrunda'].values)"
   ]
  },
  {
   "cell_type": "code",
   "execution_count": 90,
   "metadata": {
    "collapsed": false
   },
   "outputs": [
    {
     "data": {
      "text/html": [
       "<div style=\"max-height:1000px;max-width:1500px;overflow:auto;\">\n",
       "<table border=\"1\" class=\"dataframe\">\n",
       "  <thead>\n",
       "    <tr style=\"text-align: right;\">\n",
       "      <th></th>\n",
       "      <th>area</th>\n",
       "      <th>name</th>\n",
       "      <th>poly</th>\n",
       "      <th>tipsrunda</th>\n",
       "      <th>bins_tipsrunda</th>\n",
       "    </tr>\n",
       "  </thead>\n",
       "  <tbody>\n",
       "    <tr>\n",
       "      <th>1</th>\n",
       "      <td>359.7</td>\n",
       "      <td>Vallentuna</td>\n",
       "      <td>POLYGON ((1137678.584388074 1024404.619503576,...</td>\n",
       "      <td>0</td>\n",
       "      <td>-1</td>\n",
       "    </tr>\n",
       "    <tr>\n",
       "      <th>4</th>\n",
       "      <td>438.5</td>\n",
       "      <td>Värmdö</td>\n",
       "      <td>POLYGON ((1164922.989820984 976939.4120838717,...</td>\n",
       "      <td>0</td>\n",
       "      <td>-1</td>\n",
       "    </tr>\n",
       "    <tr>\n",
       "      <th>13</th>\n",
       "      <td>216.0</td>\n",
       "      <td>Ekerö</td>\n",
       "      <td>POLYGON ((1088225.889478081 984642.190218294, ...</td>\n",
       "      <td>0</td>\n",
       "      <td>-1</td>\n",
       "    </tr>\n",
       "    <tr>\n",
       "      <th>14</th>\n",
       "      <td>216.0</td>\n",
       "      <td>Ekerö</td>\n",
       "      <td>POLYGON ((1068917.783098555 992787.9296804154,...</td>\n",
       "      <td>0</td>\n",
       "      <td>-1</td>\n",
       "    </tr>\n",
       "    <tr>\n",
       "      <th>15</th>\n",
       "      <td>216.0</td>\n",
       "      <td>Ekerö</td>\n",
       "      <td>POLYGON ((1054999.417345152 995986.786836545, ...</td>\n",
       "      <td>0</td>\n",
       "      <td>-1</td>\n",
       "    </tr>\n",
       "  </tbody>\n",
       "</table>\n",
       "</div>"
      ],
      "text/plain": [
       "     area        name                                               poly  \\\n",
       "1   359.7  Vallentuna  POLYGON ((1137678.584388074 1024404.619503576,...   \n",
       "4   438.5      Värmdö  POLYGON ((1164922.989820984 976939.4120838717,...   \n",
       "13  216.0       Ekerö  POLYGON ((1088225.889478081 984642.190218294, ...   \n",
       "14  216.0       Ekerö  POLYGON ((1068917.783098555 992787.9296804154,...   \n",
       "15  216.0       Ekerö  POLYGON ((1054999.417345152 995986.786836545, ...   \n",
       "\n",
       "    tipsrunda  bins_tipsrunda  \n",
       "1           0              -1  \n",
       "4           0              -1  \n",
       "13          0              -1  \n",
       "14          0              -1  \n",
       "15          0              -1  "
      ]
     },
     "execution_count": 90,
     "metadata": {},
     "output_type": "execute_result"
    }
   ],
   "source": [
    "df[df['bins_tipsrunda'] == -1].head()"
   ]
  },
  {
   "cell_type": "code",
   "execution_count": 91,
   "metadata": {
    "collapsed": false
   },
   "outputs": [],
   "source": [
    "hierarchy = pd.io.excel.read_excel(\"hierarchy.xlsx\")"
   ]
  },
  {
   "cell_type": "code",
   "execution_count": 92,
   "metadata": {
    "collapsed": false
   },
   "outputs": [
    {
     "name": "stdout",
     "output_type": "stream",
     "text": [
      "     area     name                                               poly  \\\n",
      "46  311.5  Knivsta  POLYGON ((1068131.766109952 1074061.936456923,...   \n",
      "\n",
      "    tipsrunda  bins_tipsrunda  \n",
      "46          0              -1  \n",
      "     area     name                                               poly  \\\n",
      "46  311.5  Knivsta  POLYGON ((1068131.766109952 1074061.936456923,...   \n",
      "\n",
      "    tipsrunda  bins_tipsrunda  \n",
      "46          0               2  \n",
      "Knivsta -> Knivsta 2\n",
      "      area          name                                               poly  \\\n",
      "113  107.7  Staffanstorp  POLYGON ((586633.3868181518 230874.8715049047,...   \n",
      "\n",
      "     tipsrunda  bins_tipsrunda  \n",
      "113          0              -1  \n",
      "      area          name                                               poly  \\\n",
      "113  107.7  Staffanstorp  POLYGON ((586633.3868181518 230874.8715049047,...   \n",
      "\n",
      "     tipsrunda  bins_tipsrunda  \n",
      "113          0               2  \n",
      "Staffanstorp -> Staffanstorp 2\n",
      "     area   name                                               poly  \\\n",
      "120  55.4  Lomma  POLYGON ((558068.2557255847 243215.0131959347,...   \n",
      "\n",
      "     tipsrunda  bins_tipsrunda  \n",
      "120          0              -1  \n",
      "     area   name                                               poly  \\\n",
      "120  55.4  Lomma  POLYGON ((558068.2557255847 243215.0131959347,...   \n",
      "\n",
      "     tipsrunda  bins_tipsrunda  \n",
      "120          0               2  \n",
      "Lomma -> Lomma 2\n",
      "      area    name                                               poly  \\\n",
      "122  196.5  Skurup  POLYGON ((606082.2139900392 191228.539703751, ...   \n",
      "\n",
      "     tipsrunda  bins_tipsrunda  \n",
      "122          0              -1  \n",
      "      area    name                                               poly  \\\n",
      "122  196.5  Skurup  POLYGON ((606082.2139900392 191228.539703751, ...   \n",
      "\n",
      "     tipsrunda  bins_tipsrunda  \n",
      "122          0               2  \n",
      "Skurup -> Skurup 2\n",
      "      area   name                                               poly  \\\n",
      "123  495.5  Sjöbo  POLYGON ((623057.1532477209 223913.3970449995,...   \n",
      "\n",
      "     tipsrunda  bins_tipsrunda  \n",
      "123          0              -1  \n",
      "      area   name                                               poly  \\\n",
      "123  495.5  Sjöbo  POLYGON ((623057.1532477209 223913.3970449995,...   \n",
      "\n",
      "     tipsrunda  bins_tipsrunda  \n",
      "123          0               2  \n",
      "Sjöbo -> Sjöbo 2\n",
      "      area   name                                               poly  \\\n",
      "124  422.5  Hörby  POLYGON ((629348.7640869302 239085.7071597995,...   \n",
      "\n",
      "     tipsrunda  bins_tipsrunda  \n",
      "124          0              -1  \n",
      "      area   name                                               poly  \\\n",
      "124  422.5  Hörby  POLYGON ((629348.7640869302 239085.7071597995,...   \n",
      "\n",
      "     tipsrunda  bins_tipsrunda  \n",
      "124          0               2  \n",
      "Hörby -> Hörby 2\n",
      "     area    name                                               poly  \\\n",
      "131  92.9  Åstorp  POLYGON ((550913.4914882439 326917.764302412, ...   \n",
      "\n",
      "     tipsrunda  bins_tipsrunda  \n",
      "131          0              -1  \n",
      "     area    name                                               poly  \\\n",
      "131  92.9  Åstorp  POLYGON ((550913.4914882439 326917.764302412, ...   \n",
      "\n",
      "     tipsrunda  bins_tipsrunda  \n",
      "131          0               2  \n",
      "Åstorp -> Åstorp 2\n",
      "      area           name                                               poly  \\\n",
      "238  171.1  Hallstahammar  POLYGON ((916343.614607123 1022292.453179805, ...   \n",
      "\n",
      "     tipsrunda  bins_tipsrunda  \n",
      "238          0              -1  \n",
      "      area           name                                               poly  \\\n",
      "238  171.1  Hallstahammar  POLYGON ((916343.614607123 1022292.453179805, ...   \n",
      "\n",
      "     tipsrunda  bins_tipsrunda  \n",
      "238          0               1  \n",
      "Hallstahammar -> Hallstahammar 1\n"
     ]
    }
   ],
   "source": [
    "df = updateDF(df, u\"Stadsomland\")"
   ]
  },
  {
   "cell_type": "code",
   "execution_count": 93,
   "metadata": {
    "collapsed": false
   },
   "outputs": [
    {
     "data": {
      "text/plain": [
       "208"
      ]
     },
     "execution_count": 93,
     "metadata": {},
     "output_type": "execute_result"
    }
   ],
   "source": [
    "len(df[df['bins_tipsrunda'] == -1]['bins_tipsrunda'].values)"
   ]
  },
  {
   "cell_type": "code",
   "execution_count": 94,
   "metadata": {
    "collapsed": false
   },
   "outputs": [
    {
     "data": {
      "text/plain": [
       "120    2\n",
       "Name: bins_tipsrunda, dtype: int64"
      ]
     },
     "execution_count": 94,
     "metadata": {},
     "output_type": "execute_result"
    }
   ],
   "source": [
    "df.loc[df['name'] == \"Lomma\", 'bins_tipsrunda']"
   ]
  },
  {
   "cell_type": "code",
   "execution_count": null,
   "metadata": {
    "collapsed": true
   },
   "outputs": [],
   "source": []
  }
 ],
 "metadata": {
  "kernelspec": {
   "display_name": "Python 2",
   "language": "python",
   "name": "python2"
  },
  "language_info": {
   "codemirror_mode": {
    "name": "ipython",
    "version": 2
   },
   "file_extension": ".py",
   "mimetype": "text/x-python",
   "name": "python",
   "nbconvert_exporter": "python",
   "pygments_lexer": "ipython2",
   "version": "2.7.9"
  }
 },
 "nbformat": 4,
 "nbformat_minor": 0
}
