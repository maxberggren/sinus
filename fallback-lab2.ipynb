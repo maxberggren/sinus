{
 "cells": [
  {
   "cell_type": "code",
   "execution_count": 72,
   "metadata": {
    "collapsed": false
   },
   "outputs": [],
   "source": [
    "import pandas as pd\n",
    "from scipy.stats import mode"
   ]
  },
  {
   "cell_type": "code",
   "execution_count": 73,
   "metadata": {
    "collapsed": false
   },
   "outputs": [],
   "source": [
    "df = pd.io.pickle.read_pickle(\"labbDF.pkl\")\n",
    "df['name'] = df.apply(lambda row: row['name'].decode('latin-1'), axis=1)"
   ]
  },
  {
   "cell_type": "code",
   "execution_count": 81,
   "metadata": {
    "collapsed": true
   },
   "outputs": [],
   "source": [
    "\"\"\" Generate fallback map from municipalitys \"\"\"\n",
    "hierarchy = pd.io.excel.read_excel(\"hierarchy.xlsx\")\n",
    "\n",
    "word = \"tipsrunda\"\n",
    "\n",
    "def getMuni(df, level, key):\n",
    "    return df.groupby(level).get_group(key)['Kommun'].unique()\n",
    "\n",
    "def getParent(df, municipality, level):\n",
    "    try:\n",
    "        parent = hierarchy.loc[hierarchy[u'Kommun'] == municipality][level].values[0]\n",
    "        if not parent == \"-\":\n",
    "            munis = getMuni(hierarchy, level, key)\n",
    "            return parent, mode(df.loc[df['name'].isin(munis)]['bins_'+word])[0][0]\n",
    "        else:\n",
    "            return None, None\n",
    "    except IndexError:\n",
    "        return None, None\n",
    "\n",
    "def updateDF(df, parentLevel):\n",
    "    \"\"\" Find municipalitys with no hits and update according to rule \"\"\"\n",
    "    for muni in df[df['bins_'+word] == -1]['name'].unique():\n",
    "        parent, mean = getParent(df, muni, parentLevel)\n",
    "\n",
    "        # Update municipality with fallback according to rule\n",
    "        if mean and mean != -1:\n",
    "            print df.loc[df['name'] == muni]\n",
    "            df.loc[df['name'] == muni, 'bins_'+word] = mean # Empty dataframe! Unicode problem?\n",
    "            print df.loc[df['name'] == muni]\n",
    "            print muni, \"->\", muni, mean\n",
    "            #print df.loc[df['name'] == key]\n",
    "    return df "
   ]
  },
  {
   "cell_type": "code",
   "execution_count": 82,
   "metadata": {
    "collapsed": false
   },
   "outputs": [
    {
     "name": "stdout",
     "output_type": "stream",
     "text": [
      "     area            name                                               poly  \\\n",
      "0    75.4  Upplands Väsby  POLYGON ((1103922.593170376 1022495.837027514,...   \n",
      "1   359.7      Vallentuna  POLYGON ((1137678.584388074 1024404.619503576,...   \n",
      "2   310.0       Österåker  POLYGON ((1176139.12166001 1033496.310143271, ...   \n",
      "4   438.5          Värmdö  POLYGON ((1164922.989820984 976939.4120838717,...   \n",
      "12   50.7        Järfälla  POLYGON ((1090092.252866263 1014064.051743116,...   \n",
      "\n",
      "    tipsrunda  bins_tipsrunda  \n",
      "0    1.069948               2  \n",
      "1    0.000000              -1  \n",
      "2    0.464148               0  \n",
      "4    0.000000              -1  \n",
      "12   0.326204               0  \n"
     ]
    }
   ],
   "source": [
    "print df.head()"
   ]
  },
  {
   "cell_type": "code",
   "execution_count": 83,
   "metadata": {
    "collapsed": false
   },
   "outputs": [
    {
     "data": {
      "text/plain": [
       "216"
      ]
     },
     "execution_count": 83,
     "metadata": {},
     "output_type": "execute_result"
    }
   ],
   "source": [
    "len(df[df['bins_tipsrunda'] == -1]['bins_tipsrunda'].values)"
   ]
  },
  {
   "cell_type": "code",
   "execution_count": 84,
   "metadata": {
    "collapsed": false
   },
   "outputs": [
    {
     "data": {
      "text/html": [
       "<div style=\"max-height:1000px;max-width:1500px;overflow:auto;\">\n",
       "<table border=\"1\" class=\"dataframe\">\n",
       "  <thead>\n",
       "    <tr style=\"text-align: right;\">\n",
       "      <th></th>\n",
       "      <th>area</th>\n",
       "      <th>name</th>\n",
       "      <th>poly</th>\n",
       "      <th>tipsrunda</th>\n",
       "      <th>bins_tipsrunda</th>\n",
       "    </tr>\n",
       "  </thead>\n",
       "  <tbody>\n",
       "    <tr>\n",
       "      <th>1</th>\n",
       "      <td>359.7</td>\n",
       "      <td>Vallentuna</td>\n",
       "      <td>POLYGON ((1137678.584388074 1024404.619503576,...</td>\n",
       "      <td>0</td>\n",
       "      <td>-1</td>\n",
       "    </tr>\n",
       "    <tr>\n",
       "      <th>4</th>\n",
       "      <td>438.5</td>\n",
       "      <td>Värmdö</td>\n",
       "      <td>POLYGON ((1164922.989820984 976939.4120838717,...</td>\n",
       "      <td>0</td>\n",
       "      <td>-1</td>\n",
       "    </tr>\n",
       "    <tr>\n",
       "      <th>13</th>\n",
       "      <td>216.0</td>\n",
       "      <td>Ekerö</td>\n",
       "      <td>POLYGON ((1088225.889478081 984642.190218294, ...</td>\n",
       "      <td>0</td>\n",
       "      <td>-1</td>\n",
       "    </tr>\n",
       "    <tr>\n",
       "      <th>14</th>\n",
       "      <td>216.0</td>\n",
       "      <td>Ekerö</td>\n",
       "      <td>POLYGON ((1068917.783098555 992787.9296804154,...</td>\n",
       "      <td>0</td>\n",
       "      <td>-1</td>\n",
       "    </tr>\n",
       "    <tr>\n",
       "      <th>15</th>\n",
       "      <td>216.0</td>\n",
       "      <td>Ekerö</td>\n",
       "      <td>POLYGON ((1054999.417345152 995986.786836545, ...</td>\n",
       "      <td>0</td>\n",
       "      <td>-1</td>\n",
       "    </tr>\n",
       "  </tbody>\n",
       "</table>\n",
       "</div>"
      ],
      "text/plain": [
       "     area        name                                               poly  \\\n",
       "1   359.7  Vallentuna  POLYGON ((1137678.584388074 1024404.619503576,...   \n",
       "4   438.5      Värmdö  POLYGON ((1164922.989820984 976939.4120838717,...   \n",
       "13  216.0       Ekerö  POLYGON ((1088225.889478081 984642.190218294, ...   \n",
       "14  216.0       Ekerö  POLYGON ((1068917.783098555 992787.9296804154,...   \n",
       "15  216.0       Ekerö  POLYGON ((1054999.417345152 995986.786836545, ...   \n",
       "\n",
       "    tipsrunda  bins_tipsrunda  \n",
       "1           0              -1  \n",
       "4           0              -1  \n",
       "13          0              -1  \n",
       "14          0              -1  \n",
       "15          0              -1  "
      ]
     },
     "execution_count": 84,
     "metadata": {},
     "output_type": "execute_result"
    }
   ],
   "source": [
    "df[df['bins_tipsrunda'] == -1].head()"
   ]
  },
  {
   "cell_type": "code",
   "execution_count": 85,
   "metadata": {
    "collapsed": false
   },
   "outputs": [],
   "source": [
    "hierarchy = pd.io.excel.read_excel(\"hierarchy.xlsx\")"
   ]
  },
  {
   "cell_type": "code",
   "execution_count": 86,
   "metadata": {
    "collapsed": false
   },
   "outputs": [
    {
     "ename": "NameError",
     "evalue": "global name 'key' is not defined",
     "output_type": "error",
     "traceback": [
      "\u001b[0;31m---------------------------------------------------------------------------\u001b[0m",
      "\u001b[0;31mNameError\u001b[0m                                 Traceback (most recent call last)",
      "\u001b[0;32m<ipython-input-86-f7032ff15608>\u001b[0m in \u001b[0;36m<module>\u001b[0;34m()\u001b[0m\n\u001b[0;32m----> 1\u001b[0;31m \u001b[0mdf\u001b[0m \u001b[0;34m=\u001b[0m \u001b[0mupdateDF\u001b[0m\u001b[0;34m(\u001b[0m\u001b[0mdf\u001b[0m\u001b[0;34m,\u001b[0m \u001b[0;34mu\"Stadsomland\"\u001b[0m\u001b[0;34m)\u001b[0m\u001b[0;34m\u001b[0m\u001b[0m\n\u001b[0m",
      "\u001b[0;32m<ipython-input-81-47dee8759229>\u001b[0m in \u001b[0;36mupdateDF\u001b[0;34m(df, parentLevel)\u001b[0m\n\u001b[1;32m     21\u001b[0m     \u001b[0;34m\"\"\" Find municipalitys with no hits and update according to rule \"\"\"\u001b[0m\u001b[0;34m\u001b[0m\u001b[0m\n\u001b[1;32m     22\u001b[0m     \u001b[0;32mfor\u001b[0m \u001b[0mmuni\u001b[0m \u001b[0;32min\u001b[0m \u001b[0mdf\u001b[0m\u001b[0;34m[\u001b[0m\u001b[0mdf\u001b[0m\u001b[0;34m[\u001b[0m\u001b[0;34m'bins_'\u001b[0m\u001b[0;34m+\u001b[0m\u001b[0mword\u001b[0m\u001b[0;34m]\u001b[0m \u001b[0;34m==\u001b[0m \u001b[0;34m-\u001b[0m\u001b[0;36m1\u001b[0m\u001b[0;34m]\u001b[0m\u001b[0;34m[\u001b[0m\u001b[0;34m'name'\u001b[0m\u001b[0;34m]\u001b[0m\u001b[0;34m.\u001b[0m\u001b[0munique\u001b[0m\u001b[0;34m(\u001b[0m\u001b[0;34m)\u001b[0m\u001b[0;34m:\u001b[0m\u001b[0;34m\u001b[0m\u001b[0m\n\u001b[0;32m---> 23\u001b[0;31m         \u001b[0mparent\u001b[0m\u001b[0;34m,\u001b[0m \u001b[0mmean\u001b[0m \u001b[0;34m=\u001b[0m \u001b[0mgetParent\u001b[0m\u001b[0;34m(\u001b[0m\u001b[0mdf\u001b[0m\u001b[0;34m,\u001b[0m \u001b[0mmuni\u001b[0m\u001b[0;34m,\u001b[0m \u001b[0mparentLevel\u001b[0m\u001b[0;34m)\u001b[0m\u001b[0;34m\u001b[0m\u001b[0m\n\u001b[0m\u001b[1;32m     24\u001b[0m \u001b[0;34m\u001b[0m\u001b[0m\n\u001b[1;32m     25\u001b[0m         \u001b[0;31m# Update municipality with fallback according to rule\u001b[0m\u001b[0;34m\u001b[0m\u001b[0;34m\u001b[0m\u001b[0m\n",
      "\u001b[0;32m<ipython-input-81-47dee8759229>\u001b[0m in \u001b[0;36mgetParent\u001b[0;34m(df, municipality, level)\u001b[0m\n\u001b[1;32m     11\u001b[0m         \u001b[0mparent\u001b[0m \u001b[0;34m=\u001b[0m \u001b[0mhierarchy\u001b[0m\u001b[0;34m.\u001b[0m\u001b[0mloc\u001b[0m\u001b[0;34m[\u001b[0m\u001b[0mhierarchy\u001b[0m\u001b[0;34m[\u001b[0m\u001b[0;34mu'Kommun'\u001b[0m\u001b[0;34m]\u001b[0m \u001b[0;34m==\u001b[0m \u001b[0mmunicipality\u001b[0m\u001b[0;34m]\u001b[0m\u001b[0;34m[\u001b[0m\u001b[0mlevel\u001b[0m\u001b[0;34m]\u001b[0m\u001b[0;34m.\u001b[0m\u001b[0mvalues\u001b[0m\u001b[0;34m[\u001b[0m\u001b[0;36m0\u001b[0m\u001b[0;34m]\u001b[0m\u001b[0;34m\u001b[0m\u001b[0m\n\u001b[1;32m     12\u001b[0m         \u001b[0;32mif\u001b[0m \u001b[0;32mnot\u001b[0m \u001b[0mparent\u001b[0m \u001b[0;34m==\u001b[0m \u001b[0;34m\"-\"\u001b[0m\u001b[0;34m:\u001b[0m\u001b[0;34m\u001b[0m\u001b[0m\n\u001b[0;32m---> 13\u001b[0;31m             \u001b[0mmunis\u001b[0m \u001b[0;34m=\u001b[0m \u001b[0mgetMuni\u001b[0m\u001b[0;34m(\u001b[0m\u001b[0mhierarchy\u001b[0m\u001b[0;34m,\u001b[0m \u001b[0mlevel\u001b[0m\u001b[0;34m,\u001b[0m \u001b[0mkey\u001b[0m\u001b[0;34m)\u001b[0m\u001b[0;34m\u001b[0m\u001b[0m\n\u001b[0m\u001b[1;32m     14\u001b[0m             \u001b[0;32mreturn\u001b[0m \u001b[0mparent\u001b[0m\u001b[0;34m,\u001b[0m \u001b[0mmode\u001b[0m\u001b[0;34m(\u001b[0m\u001b[0mdf\u001b[0m\u001b[0;34m.\u001b[0m\u001b[0mloc\u001b[0m\u001b[0;34m[\u001b[0m\u001b[0mdf\u001b[0m\u001b[0;34m[\u001b[0m\u001b[0;34m'name'\u001b[0m\u001b[0;34m]\u001b[0m\u001b[0;34m.\u001b[0m\u001b[0misin\u001b[0m\u001b[0;34m(\u001b[0m\u001b[0mmunis\u001b[0m\u001b[0;34m)\u001b[0m\u001b[0;34m]\u001b[0m\u001b[0;34m[\u001b[0m\u001b[0;34m'bins_'\u001b[0m\u001b[0;34m+\u001b[0m\u001b[0mword\u001b[0m\u001b[0;34m]\u001b[0m\u001b[0;34m)\u001b[0m\u001b[0;34m[\u001b[0m\u001b[0;36m0\u001b[0m\u001b[0;34m]\u001b[0m\u001b[0;34m[\u001b[0m\u001b[0;36m0\u001b[0m\u001b[0;34m]\u001b[0m\u001b[0;34m\u001b[0m\u001b[0m\n\u001b[1;32m     15\u001b[0m         \u001b[0;32melse\u001b[0m\u001b[0;34m:\u001b[0m\u001b[0;34m\u001b[0m\u001b[0m\n",
      "\u001b[0;31mNameError\u001b[0m: global name 'key' is not defined"
     ]
    }
   ],
   "source": [
    "df = updateDF(df, u\"Stadsomland\")"
   ]
  },
  {
   "cell_type": "code",
   "execution_count": 80,
   "metadata": {
    "collapsed": false
   },
   "outputs": [
    {
     "data": {
      "text/plain": [
       "216"
      ]
     },
     "execution_count": 80,
     "metadata": {},
     "output_type": "execute_result"
    }
   ],
   "source": [
    "len(df[df['bins_tipsrunda'] == -1]['bins_tipsrunda'].values)"
   ]
  },
  {
   "cell_type": "code",
   "execution_count": 71,
   "metadata": {
    "collapsed": false
   },
   "outputs": [
    {
     "data": {
      "text/plain": [
       "120   -1\n",
       "Name: bins_tipsrunda, dtype: int64"
      ]
     },
     "execution_count": 71,
     "metadata": {},
     "output_type": "execute_result"
    }
   ],
   "source": [
    "df.loc[df['name'] == \"Lomma\", 'bins_tipsrunda']"
   ]
  },
  {
   "cell_type": "code",
   "execution_count": null,
   "metadata": {
    "collapsed": true
   },
   "outputs": [],
   "source": []
  }
 ],
 "metadata": {
  "kernelspec": {
   "display_name": "Python 2",
   "language": "python",
   "name": "python2"
  },
  "language_info": {
   "codemirror_mode": {
    "name": "ipython",
    "version": 2
   },
   "file_extension": ".py",
   "mimetype": "text/x-python",
   "name": "python",
   "nbconvert_exporter": "python",
   "pygments_lexer": "ipython2",
   "version": "2.7.9"
  }
 },
 "nbformat": 4,
 "nbformat_minor": 0
}
