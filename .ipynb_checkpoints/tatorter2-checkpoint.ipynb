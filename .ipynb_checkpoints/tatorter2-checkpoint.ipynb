{
 "cells": [
  {
   "cell_type": "code",
   "execution_count": 8,
   "metadata": {
    "collapsed": false
   },
   "outputs": [
    {
     "name": "stdout",
     "output_type": "stream",
     "text": [
      "(55.3924, 13.5946)\n"
     ]
    },
    {
     "ename": "NameError",
     "evalue": "(\"global name 'NoResultError' is not defined\", u'occurred at index 49')",
     "output_type": "error",
     "traceback": [
      "\u001b[0;31m---------------------------------------------------------------------------\u001b[0m",
      "\u001b[0;31mNameError\u001b[0m                                 Traceback (most recent call last)",
      "\u001b[0;32m<ipython-input-8-efa44ac07099>\u001b[0m in \u001b[0;36m<module>\u001b[0;34m()\u001b[0m\n\u001b[1;32m     14\u001b[0m         \u001b[0;32mreturn\u001b[0m \u001b[0mNone\u001b[0m\u001b[0;34m\u001b[0m\u001b[0m\n\u001b[1;32m     15\u001b[0m \u001b[0;34m\u001b[0m\u001b[0m\n\u001b[0;32m---> 16\u001b[0;31m \u001b[0mdf\u001b[0m\u001b[0;34m[\u001b[0m\u001b[0;34m'coordinate'\u001b[0m\u001b[0;34m]\u001b[0m \u001b[0;34m=\u001b[0m \u001b[0mdf\u001b[0m\u001b[0;34m.\u001b[0m\u001b[0mapply\u001b[0m\u001b[0;34m(\u001b[0m\u001b[0madd_coordinate\u001b[0m\u001b[0;34m,\u001b[0m \u001b[0maxis\u001b[0m\u001b[0;34m=\u001b[0m\u001b[0;36m1\u001b[0m\u001b[0;34m)\u001b[0m\u001b[0;34m\u001b[0m\u001b[0m\n\u001b[0m",
      "\u001b[0;32m/Users/max/anaconda/lib/python2.7/site-packages/pandas/core/frame.pyc\u001b[0m in \u001b[0;36mapply\u001b[0;34m(self, func, axis, broadcast, raw, reduce, args, **kwds)\u001b[0m\n\u001b[1;32m   3716\u001b[0m                     \u001b[0;32mif\u001b[0m \u001b[0mreduce\u001b[0m \u001b[0;32mis\u001b[0m \u001b[0mNone\u001b[0m\u001b[0;34m:\u001b[0m\u001b[0;34m\u001b[0m\u001b[0m\n\u001b[1;32m   3717\u001b[0m                         \u001b[0mreduce\u001b[0m \u001b[0;34m=\u001b[0m \u001b[0mTrue\u001b[0m\u001b[0;34m\u001b[0m\u001b[0m\n\u001b[0;32m-> 3718\u001b[0;31m                     \u001b[0;32mreturn\u001b[0m \u001b[0mself\u001b[0m\u001b[0;34m.\u001b[0m\u001b[0m_apply_standard\u001b[0m\u001b[0;34m(\u001b[0m\u001b[0mf\u001b[0m\u001b[0;34m,\u001b[0m \u001b[0maxis\u001b[0m\u001b[0;34m,\u001b[0m \u001b[0mreduce\u001b[0m\u001b[0;34m=\u001b[0m\u001b[0mreduce\u001b[0m\u001b[0;34m)\u001b[0m\u001b[0;34m\u001b[0m\u001b[0m\n\u001b[0m\u001b[1;32m   3719\u001b[0m             \u001b[0;32melse\u001b[0m\u001b[0;34m:\u001b[0m\u001b[0;34m\u001b[0m\u001b[0m\n\u001b[1;32m   3720\u001b[0m                 \u001b[0;32mreturn\u001b[0m \u001b[0mself\u001b[0m\u001b[0;34m.\u001b[0m\u001b[0m_apply_broadcast\u001b[0m\u001b[0;34m(\u001b[0m\u001b[0mf\u001b[0m\u001b[0;34m,\u001b[0m \u001b[0maxis\u001b[0m\u001b[0;34m)\u001b[0m\u001b[0;34m\u001b[0m\u001b[0m\n",
      "\u001b[0;32m/Users/max/anaconda/lib/python2.7/site-packages/pandas/core/frame.pyc\u001b[0m in \u001b[0;36m_apply_standard\u001b[0;34m(self, func, axis, ignore_failures, reduce)\u001b[0m\n\u001b[1;32m   3806\u001b[0m             \u001b[0;32mtry\u001b[0m\u001b[0;34m:\u001b[0m\u001b[0;34m\u001b[0m\u001b[0m\n\u001b[1;32m   3807\u001b[0m                 \u001b[0;32mfor\u001b[0m \u001b[0mi\u001b[0m\u001b[0;34m,\u001b[0m \u001b[0mv\u001b[0m \u001b[0;32min\u001b[0m \u001b[0menumerate\u001b[0m\u001b[0;34m(\u001b[0m\u001b[0mseries_gen\u001b[0m\u001b[0;34m)\u001b[0m\u001b[0;34m:\u001b[0m\u001b[0;34m\u001b[0m\u001b[0m\n\u001b[0;32m-> 3808\u001b[0;31m                     \u001b[0mresults\u001b[0m\u001b[0;34m[\u001b[0m\u001b[0mi\u001b[0m\u001b[0;34m]\u001b[0m \u001b[0;34m=\u001b[0m \u001b[0mfunc\u001b[0m\u001b[0;34m(\u001b[0m\u001b[0mv\u001b[0m\u001b[0;34m)\u001b[0m\u001b[0;34m\u001b[0m\u001b[0m\n\u001b[0m\u001b[1;32m   3809\u001b[0m                     \u001b[0mkeys\u001b[0m\u001b[0;34m.\u001b[0m\u001b[0mappend\u001b[0m\u001b[0;34m(\u001b[0m\u001b[0mv\u001b[0m\u001b[0;34m.\u001b[0m\u001b[0mname\u001b[0m\u001b[0;34m)\u001b[0m\u001b[0;34m\u001b[0m\u001b[0m\n\u001b[1;32m   3810\u001b[0m             \u001b[0;32mexcept\u001b[0m \u001b[0mException\u001b[0m \u001b[0;32mas\u001b[0m \u001b[0me\u001b[0m\u001b[0;34m:\u001b[0m\u001b[0;34m\u001b[0m\u001b[0m\n",
      "\u001b[0;32m<ipython-input-8-efa44ac07099>\u001b[0m in \u001b[0;36madd_coordinate\u001b[0;34m(row)\u001b[0m\n\u001b[1;32m     11\u001b[0m     \u001b[0;32mtry\u001b[0m\u001b[0;34m:\u001b[0m\u001b[0;34m\u001b[0m\u001b[0m\n\u001b[1;32m     12\u001b[0m         \u001b[0;32mreturn\u001b[0m \u001b[0mlatlon\u001b[0m\u001b[0;34m(\u001b[0m\u001b[0;34m'{}, Sverige'\u001b[0m\u001b[0;34m.\u001b[0m\u001b[0mformat\u001b[0m\u001b[0;34m(\u001b[0m\u001b[0mrow\u001b[0m\u001b[0;34m[\u001b[0m\u001b[0;34m'town'\u001b[0m\u001b[0;34m]\u001b[0m\u001b[0;34m)\u001b[0m\u001b[0;34m)\u001b[0m\u001b[0;34m\u001b[0m\u001b[0m\n\u001b[0;32m---> 13\u001b[0;31m     \u001b[0;32mexcept\u001b[0m \u001b[0mNoResultError\u001b[0m \u001b[0;34m:\u001b[0m\u001b[0;34m\u001b[0m\u001b[0m\n\u001b[0m\u001b[1;32m     14\u001b[0m         \u001b[0;32mreturn\u001b[0m \u001b[0mNone\u001b[0m\u001b[0;34m\u001b[0m\u001b[0m\n\u001b[1;32m     15\u001b[0m \u001b[0;34m\u001b[0m\u001b[0m\n",
      "\u001b[0;31mNameError\u001b[0m: (\"global name 'NoResultError' is not defined\", u'occurred at index 49')"
     ]
    }
   ],
   "source": [
    "import pandas as pd\n",
    "from geocode import latlon, NoResultError \n",
    "\n",
    "df = pd.read_csv(\"tatorter.txt\", header=None)\n",
    "df.columns = ['town']\n",
    "\n",
    "#print df\n",
    "print latlon(\"Abbekås, Sverige\")\n",
    "\n",
    "def add_coordinate(row):\n",
    "    try:\n",
    "        return latlon('{}, Sverige'.format(row['town']))\n",
    "    except NoResultError :\n",
    "        return None\n",
    "    \n",
    "df['coordinate'] = df.apply(add_coordinate, axis=1)"
   ]
  },
  {
   "cell_type": "code",
   "execution_count": 2,
   "metadata": {
    "collapsed": false
   },
   "outputs": [
    {
     "name": "stdout",
     "output_type": "stream",
     "text": [
      "                  town\n",
      "0              Abbekås\n",
      "1         Abborrberget\n",
      "2            Agunnaryd\n",
      "3              Alberga\n",
      "4                 Alby\n",
      "5                Alfta\n",
      "6            Algutsrum\n",
      "7             Alingsås\n",
      "8              Allerum\n",
      "9              Almunge\n",
      "10              Alsike\n",
      "11              Alstad\n",
      "12              Alster\n",
      "13           Alsterbro\n",
      "14            Alstermo\n",
      "15              Alunda\n",
      "16             Alvesta\n",
      "17              Alvhem\n",
      "18               Alvik\n",
      "19               Alvik\n",
      "20            Ambjörby\n",
      "21          Ambjörnarp\n",
      "22             Ammenäs\n",
      "23             Andalen\n",
      "24           Anderslöv\n",
      "25          Anderstorp\n",
      "26               Aneby\n",
      "27           Angelstad\n",
      "28             Angered\n",
      "29           Ankarsrum\n",
      "...                ...\n",
      "1923         Österstad\n",
      "1924         Östersund\n",
      "1925         Östervåla\n",
      "1926         Östhammar\n",
      "1927          Östhamra\n",
      "1928           Östmark\n",
      "1929            Östnor\n",
      "1930  Östorp och Ådran\n",
      "1931  Östra Bispgården\n",
      "1932    Östra Frölunda\n",
      "1933      Östra Grevie\n",
      "1934       Östra Husby\n",
      "1935    Östra Kallfors\n",
      "1936       Östra Karup\n",
      "1937     Östra Ljungby\n",
      "1938         Östra Ryd\n",
      "1939  Östra Sönnarslöv\n",
      "1940     Östra Tommarp\n",
      "1941     Östra Ånneröd\n",
      "1942           Östraby\n",
      "1943          Överboda\n",
      "1944        Överhörnäs\n",
      "1945         Överkalix\n",
      "1946          Överlida\n",
      "1947        Övertorneå\n",
      "1948            Överum\n",
      "1949      Övre Soppero\n",
      "1950      Övre Svartlå\n",
      "1951           Öxabäck\n",
      "1952            Öxeryd\n",
      "\n",
      "[1953 rows x 1 columns]\n"
     ]
    }
   ],
   "source": [
    "def find_features(s):\n",
    "    feats = [s[i:i+3] for i in xrange(len(s)-2)] \n",
    "    return feats\n",
    "\n",
    "features = []\n",
    "for town in df['town'].values:\n",
    "    features.extend(find_features(town.lower()))\n",
    "\n",
    "features = list(set(features))"
   ]
  },
  {
   "cell_type": "code",
   "execution_count": 4,
   "metadata": {
    "collapsed": false
   },
   "outputs": [],
   "source": [
    "final_features = []\n",
    "occurances = []\n",
    "for feature in features:\n",
    "    try:\n",
    "        final_features.append(feature)\n",
    "        occurances.append(sum(df['town'].str.contains(feature)))\n",
    "    except:\n",
    "        pass"
   ]
  },
  {
   "cell_type": "code",
   "execution_count": 5,
   "metadata": {
    "collapsed": false
   },
   "outputs": [
    {
     "name": "stdout",
     "output_type": "stream",
     "text": [
      "2643 2650\n"
     ]
    }
   ],
   "source": [
    "print len(occurances), len(final_features)"
   ]
  },
  {
   "cell_type": "code",
   "execution_count": null,
   "metadata": {
    "collapsed": false
   },
   "outputs": [],
   "source": [
    "df_features = pd.DataFrame({'feature': final_features, \n",
    "                            'occurances': occurances })"
   ]
  }
 ],
 "metadata": {
  "kernelspec": {
   "display_name": "Python 2",
   "language": "python",
   "name": "python2"
  },
  "language_info": {
   "codemirror_mode": {
    "name": "ipython",
    "version": 2
   },
   "file_extension": ".py",
   "mimetype": "text/x-python",
   "name": "python",
   "nbconvert_exporter": "python",
   "pygments_lexer": "ipython2",
   "version": "2.7.10"
  }
 },
 "nbformat": 4,
 "nbformat_minor": 0
}
