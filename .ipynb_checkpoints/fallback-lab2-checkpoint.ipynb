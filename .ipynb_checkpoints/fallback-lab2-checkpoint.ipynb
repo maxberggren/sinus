{
 "cells": [
  {
   "cell_type": "code",
   "execution_count": 1,
   "metadata": {
    "collapsed": false
   },
   "outputs": [],
   "source": [
    "import pandas as pd"
   ]
  },
  {
   "cell_type": "code",
   "execution_count": 160,
   "metadata": {
    "collapsed": false
   },
   "outputs": [],
   "source": [
    "df = pd.io.pickle.read_pickle(\"labbDF.pkl\")\n",
    "df['name'] = df.apply(lambda row: row['name'].decode('latin-1'), axis=1)"
   ]
  },
  {
   "cell_type": "code",
   "execution_count": 161,
   "metadata": {
    "collapsed": false
   },
   "outputs": [
    {
     "name": "stdout",
     "output_type": "stream",
     "text": [
      "     area            name                                               poly  \\\n",
      "0    75.4  Upplands Väsby  POLYGON ((1103922.593170376 1022495.837027514,...   \n",
      "1   359.7      Vallentuna  POLYGON ((1137678.584388074 1024404.619503576,...   \n",
      "2   310.0       Österåker  POLYGON ((1176139.12166001 1033496.310143271, ...   \n",
      "4   438.5          Värmdö  POLYGON ((1164922.989820984 976939.4120838717,...   \n",
      "12   50.7        Järfälla  POLYGON ((1090092.252866263 1014064.051743116,...   \n",
      "\n",
      "    tipsrunda  bins_tipsrunda  \n",
      "0    1.069948               2  \n",
      "1    0.000000              -1  \n",
      "2    0.464148               0  \n",
      "4    0.000000              -1  \n",
      "12   0.326204               0  \n"
     ]
    }
   ],
   "source": [
    "print df.head()"
   ]
  },
  {
   "cell_type": "code",
   "execution_count": 162,
   "metadata": {
    "collapsed": false
   },
   "outputs": [
    {
     "data": {
      "text/html": [
       "<div style=\"max-height:1000px;max-width:1500px;overflow:auto;\">\n",
       "<table border=\"1\" class=\"dataframe\">\n",
       "  <thead>\n",
       "    <tr style=\"text-align: right;\">\n",
       "      <th></th>\n",
       "      <th>area</th>\n",
       "      <th>name</th>\n",
       "      <th>poly</th>\n",
       "      <th>tipsrunda</th>\n",
       "      <th>bins_tipsrunda</th>\n",
       "    </tr>\n",
       "  </thead>\n",
       "  <tbody>\n",
       "    <tr>\n",
       "      <th>1 </th>\n",
       "      <td> 359.7</td>\n",
       "      <td> Vallentuna</td>\n",
       "      <td> POLYGON ((1137678.584388074 1024404.619503576,...</td>\n",
       "      <td> 0</td>\n",
       "      <td>-1</td>\n",
       "    </tr>\n",
       "    <tr>\n",
       "      <th>4 </th>\n",
       "      <td> 438.5</td>\n",
       "      <td>     Värmdö</td>\n",
       "      <td> POLYGON ((1164922.989820984 976939.4120838717,...</td>\n",
       "      <td> 0</td>\n",
       "      <td>-1</td>\n",
       "    </tr>\n",
       "    <tr>\n",
       "      <th>13</th>\n",
       "      <td> 216.0</td>\n",
       "      <td>      Ekerö</td>\n",
       "      <td> POLYGON ((1088225.889478081 984642.190218294, ...</td>\n",
       "      <td> 0</td>\n",
       "      <td>-1</td>\n",
       "    </tr>\n",
       "    <tr>\n",
       "      <th>14</th>\n",
       "      <td> 216.0</td>\n",
       "      <td>      Ekerö</td>\n",
       "      <td> POLYGON ((1068917.783098555 992787.9296804154,...</td>\n",
       "      <td> 0</td>\n",
       "      <td>-1</td>\n",
       "    </tr>\n",
       "    <tr>\n",
       "      <th>15</th>\n",
       "      <td> 216.0</td>\n",
       "      <td>      Ekerö</td>\n",
       "      <td> POLYGON ((1054999.417345152 995986.786836545, ...</td>\n",
       "      <td> 0</td>\n",
       "      <td>-1</td>\n",
       "    </tr>\n",
       "  </tbody>\n",
       "</table>\n",
       "</div>"
      ],
      "text/plain": [
       "     area        name                                               poly  \\\n",
       "1   359.7  Vallentuna  POLYGON ((1137678.584388074 1024404.619503576,...   \n",
       "4   438.5      Värmdö  POLYGON ((1164922.989820984 976939.4120838717,...   \n",
       "13  216.0       Ekerö  POLYGON ((1088225.889478081 984642.190218294, ...   \n",
       "14  216.0       Ekerö  POLYGON ((1068917.783098555 992787.9296804154,...   \n",
       "15  216.0       Ekerö  POLYGON ((1054999.417345152 995986.786836545, ...   \n",
       "\n",
       "    tipsrunda  bins_tipsrunda  \n",
       "1           0              -1  \n",
       "4           0              -1  \n",
       "13          0              -1  \n",
       "14          0              -1  \n",
       "15          0              -1  "
      ]
     },
     "execution_count": 162,
     "metadata": {},
     "output_type": "execute_result"
    }
   ],
   "source": [
    "df[df['bins_tipsrunda'] == -1].head()"
   ]
  },
  {
   "cell_type": "code",
   "execution_count": 163,
   "metadata": {
    "collapsed": false
   },
   "outputs": [],
   "source": [
    "hierarchy = pd.io.excel.read_excel(\"hierarchy.xlsx\")"
   ]
  },
  {
   "cell_type": "code",
   "execution_count": 175,
   "metadata": {
    "collapsed": false
   },
   "outputs": [],
   "source": [
    "def getMuni(df, level, key):\n",
    "    return df.groupby(level).get_group(key)['Kommun'].unique()\n",
    "\n",
    "def getParent(df, municipality, level):\n",
    "    try:\n",
    "        key = hierarchy.loc[hierarchy[u'Kommun'] == municipality][level].values[0]\n",
    "        if not key == \"-\":\n",
    "            munis = getMuni(hierarchy, level, key)\n",
    "            return key, round(df.loc[df['name'].isin(munis)]['bins_tipsrunda'].mean())\n",
    "        else:\n",
    "            return None, None\n",
    "    except IndexError:\n",
    "        return None, None"
   ]
  },
  {
   "cell_type": "code",
   "execution_count": 176,
   "metadata": {
    "collapsed": false
   },
   "outputs": [
    {
     "name": "stdout",
     "output_type": "stream",
     "text": [
      "[u'Botkyrka' u'Danderyd' u'Eker\\xf6' u'Haninge' u'Huddinge' u'H\\xe5bo'\n",
      " u'J\\xe4rf\\xe4lla' u'Liding\\xf6' u'Nacka' u'Nyn\\xe4shamn' u'Salem'\n",
      " u'Sigtuna' u'Sollentuna' u'Solna' u'Stockholm' u'Sundbyberg' u'Tyres\\xf6'\n",
      " u'T\\xe4by' u'Upplands-Bro' u'Vallentuna' u'Vaxholm' u'V\\xe4rmd\\xf6'\n",
      " u'\\xd6ster\\xe5ker']\n"
     ]
    }
   ],
   "source": [
    "print getMuni(hierarchy, u\"Stadsomland\", u\"Stockholm\")"
   ]
  },
  {
   "cell_type": "code",
   "execution_count": 179,
   "metadata": {
    "collapsed": false
   },
   "outputs": [
    {
     "name": "stdout",
     "output_type": "stream",
     "text": [
      "Vallentuna -> Stockholm -1.0\n",
      "Värmdö -> Stockholm -1.0\n",
      "Ekerö -> Stockholm -1.0\n",
      "Huddinge -> Stockholm -1.0\n",
      "Botkyrka -> Stockholm -1.0\n",
      "Salem -> Stockholm -1.0\n",
      "Upplands-Bro -> Stockholm -1.0\n",
      "Nykvarn -> Södertälje -1.0\n",
      "Täby -> Stockholm -1.0\n",
      "Danderyd -> Stockholm -1.0\n",
      "Sollentuna -> Stockholm -1.0\n",
      "Södertälje -> Södertälje -1.0\n",
      "Nacka -> Stockholm -1.0\n",
      "Sundbyberg -> Stockholm -1.0\n",
      "Lidingö -> Stockholm -1.0\n",
      "Vaxholm -> Stockholm -1.0\n",
      "Sigtuna -> Stockholm -1.0\n",
      "Nynäshamn -> Stockholm -1.0\n",
      "Håbo -> Stockholm -1.0\n",
      "Älvkarleby -> Gävle 0.0\n",
      "Knivsta -> Uppsala 1.0\n",
      "Enköping -> None None\n",
      "Vingåker -> Katrineholm -1.0\n",
      "Gnesta -> Södertälje -1.0\n",
      "Nyköping -> None None\n",
      "Oxelösund -> None None\n",
      "Flen -> None None\n",
      "Katrineholm -> Katrineholm -1.0\n",
      "Strängnäs -> Södertälje -1.0\n",
      "Trosa -> Södertälje -1.0\n",
      "Ödeshög -> Mjölby -1.0\n",
      "Ydre -> Tranås -1.0\n",
      "Kinda -> None None\n",
      "Boxholm -> Mjölby -1.0\n",
      "Åtvidaberg -> Linköping -1.0\n",
      "Finspång -> None None\n",
      "Valdemarsvik -> None None\n",
      "Linköping -> Linköping -1.0\n",
      "Norrköping -> Norrköping -1.0\n",
      "Söderköping -> Norrköping -1.0\n",
      "Motala -> Motala -1.0\n",
      "Vadstena -> Motala -1.0\n",
      "Mjölby -> Mjölby -1.0\n",
      "Aneby -> Jönköping -1.0\n",
      "Gnosjö -> None None\n",
      "Mullsjö -> Jönköping -1.0\n",
      "Habo -> Jönköping -1.0\n",
      "Gislaved -> None None\n",
      "Vaggeryd -> None None\n",
      "Sävsjö -> None None\n",
      "Eksjö -> None None\n",
      "Tranås -> Tranås -1.0\n",
      "Lessebo -> Växjö 1.0\n",
      "Tingsryd -> None None\n",
      "Älmhult -> Älmhult -1.0\n",
      "Markaryd -> None None\n",
      "Högsby -> Oskarshamn -1.0\n",
      "Torsås -> None None\n",
      "Mörbylånga -> Kalmar 1.0\n",
      "Hultsfred -> None None\n",
      "Oskarshamn -> Oskarshamn -1.0\n",
      "Västervik -> None None\n",
      "Vimmerby -> None None\n",
      "Borgholm -> None None\n",
      "Gotland -> None None\n",
      "Olofström -> None None\n",
      "Staffanstorp -> Malmö 1.0\n",
      "Östra Göinge -> None None\n",
      "Örkelljunga -> None None\n",
      "Lomma -> Malmö 1.0\n",
      "Skurup -> Malmö 1.0\n",
      "Sjöbo -> Lund 1.0\n",
      "Hörby -> Lund 1.0\n",
      "Osby -> Älmhult -1.0\n",
      "Perstorp -> None None\n",
      "Åstorp -> Helsingborg 2.0\n",
      "Båstad -> None None\n",
      "Hylte -> None None\n",
      "Falkenberg -> None None\n",
      "Varberg -> None None\n",
      "Kungsbacka -> Göteborg -1.0\n",
      "Härryda -> Göteborg -1.0\n",
      "Partille -> Göteborg -1.0\n",
      "Öckerö -> Göteborg -1.0\n",
      "Stenungsund -> Göteborg -1.0\n",
      "Tjörn -> Stenungsund -1.0\n",
      "Orust -> Göteborg -1.0\n",
      "Sotenäs -> None None\n",
      "Munkedal -> Uddevalla -1.0\n",
      "Tanum -> None None\n",
      "Dals-Ed -> None None\n",
      "Färgelanda -> Uddevalla -1.0\n",
      "Ale -> Göteborg -1.0\n",
      "Lerum -> Göteborg -1.0\n",
      "Vårgårda -> Alingsås -1.0\n",
      "Bollebygd -> Göteborg -1.0\n",
      "Grästorp -> Trollhättan -1.0\n",
      "Essunga -> Vara -1.0\n",
      "Karlsborg -> None None\n",
      "Gullspång -> None None\n",
      "Tranemo -> None None\n",
      "Bengtsfors -> None None\n",
      "Mellerud -> None None\n",
      "Lilla Edet -> None None\n",
      "Mark -> None None\n",
      "Svenljunga -> None None\n",
      "Herrljunga -> None None\n",
      "Vara -> Vara -1.0\n",
      "Götene -> None None\n",
      "Tibro -> Skövde -1.0\n",
      "Töreboda -> None None\n",
      "Göteborg -> Göteborg -1.0\n",
      "Mölndal -> Göteborg -1.0\n",
      "Kungälv -> Göteborg -1.0\n",
      "Lysekil -> None None\n",
      "Uddevalla -> Uddevalla -1.0\n",
      "Strömstad -> None None\n",
      "Vänersborg -> Trollhättan -1.0\n",
      "Trollhättan -> Trollhättan -1.0\n",
      "Borås -> None None\n",
      "Ulricehamn -> None None\n",
      "Åmål -> None None\n",
      "Mariestad -> None None\n",
      "Lidköping -> Göteborg -1.0\n",
      "Skara -> None None\n",
      "Skövde -> Skövde -1.0\n",
      "Hjo -> Skövde -1.0\n",
      "Tidaholm -> None None\n",
      "Kil -> Karlstad -1.0\n",
      "Eda -> None None\n",
      "Torsby -> None None\n",
      "Storfors -> Karlskoga -1.0\n",
      "Hammarö -> Karlstad -1.0\n",
      "Munkfors -> None None\n",
      "Forshaga -> Karlstad -1.0\n",
      "Grums -> None None\n",
      "Årjäng -> None None\n",
      "Sunne -> None None\n",
      "Karlstad -> Karlstad -1.0\n",
      "Kristinehamn -> None None\n",
      "Filipstad -> None None\n",
      "Hagfors -> None None\n",
      "Arvika -> None None\n",
      "Säffle -> None None\n",
      "Lekeberg -> Örebro -1.0\n",
      "Laxå -> None None\n",
      "Hallsberg -> Örebro -1.0\n",
      "Degerfors -> Karlskoga -1.0\n",
      "Örebro -> Örebro -1.0\n",
      "Kumla -> Örebro -1.0\n",
      "Askersund -> None None\n",
      "Karlskoga -> Karlskoga -1.0\n",
      "Nora -> Örebro -1.0\n",
      "Lindesberg -> None None\n",
      "Skinnskatteberg -> Fagersta -1.0\n",
      "Kungsör -> Köping -1.0\n",
      "Hallstahammar -> Västerås 0.0\n",
      "Norberg -> Fagersta -1.0\n",
      "Fagersta -> Fagersta -1.0\n",
      "Köping -> Köping -1.0\n",
      "Arboga -> None None\n",
      "Vansbro -> None None\n",
      "Malung-Sälen -> None None\n",
      "Gagnef -> Borlänge -1.0\n",
      "Leksand -> None None\n",
      "Rättvik -> None None\n",
      "Orsa -> Mora 0.0\n",
      "Älvdalen -> None None\n",
      "Smedjebacken -> Ludvika -1.0\n",
      "Falun -> None None\n",
      "Borlänge -> Borlänge -1.0\n",
      "Säter -> Borlänge -1.0\n",
      "Hedemora -> None None\n",
      "Avesta -> None None\n",
      "Ludvika -> Ludvika -1.0\n",
      "Ockelbo -> Gävle 0.0\n",
      "Hofors -> None None\n",
      "Ånge -> None None\n",
      "Timrå -> Sundsvall 1.0\n",
      "Ragunda -> None None\n",
      "Åre -> None None\n",
      "Berg -> None None\n",
      "Nordmaling -> None None\n",
      "Vindeln -> None None\n",
      "Robertsfors -> None None\n",
      "Malå -> None None\n",
      "Kalix -> None None\n",
      "Pajala -> None None\n",
      "Älvsbyn -> None None\n",
      "Haparanda -> None None\n",
      "Bergen -> None None\n",
      "Porsanger -> None None\n",
      "Askim -> None None\n",
      "Oslo -> None None\n",
      "417 -> None None\n",
      "478 -> None None\n",
      "091 -> None None\n",
      "049 -> None None\n",
      "753 -> None None\n",
      "638 -> None None\n",
      "445 -> None None\n",
      "853 -> None None\n",
      "905 -> None None\n",
      "729 -> None None\n",
      "280 -> None None\n",
      "598 -> None None\n",
      "499 -> None None\n",
      "893 -> None None\n",
      "272 -> None None\n",
      "261 -> None None\n"
     ]
    }
   ],
   "source": [
    "#print hierarchy.columns\n",
    "\n",
    "# Every municipality that has no hits\n",
    "for muni in df[df['bins_tipsrunda'] == -1]['name'].unique():\n",
    "    key, mean = getParent(df, muni, u\"Stadsomland\")\n",
    "    print muni, \"->\", key, mean"
   ]
  },
  {
   "cell_type": "code",
   "execution_count": 166,
   "metadata": {
    "collapsed": false
   },
   "outputs": [],
   "source": []
  },
  {
   "cell_type": "code",
   "execution_count": null,
   "metadata": {
    "collapsed": false
   },
   "outputs": [],
   "source": []
  }
 ],
 "metadata": {
  "kernelspec": {
   "display_name": "Python 2",
   "language": "python",
   "name": "python2"
  },
  "language_info": {
   "codemirror_mode": {
    "name": "ipython",
    "version": 2
   },
   "file_extension": ".py",
   "mimetype": "text/x-python",
   "name": "python",
   "nbconvert_exporter": "python",
   "pygments_lexer": "ipython2",
   "version": "2.7.9"
  }
 },
 "nbformat": 4,
 "nbformat_minor": 0
}
