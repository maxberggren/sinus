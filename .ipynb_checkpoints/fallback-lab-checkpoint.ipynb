{
 "metadata": {
  "name": "",
  "signature": "sha256:ec4af13c73fef5126bdbbdb85b4a3d273389014c2ccb91e6166efca1d76bacaf"
 },
 "nbformat": 3,
 "nbformat_minor": 0,
 "worksheets": [
  {
   "cells": [
    {
     "cell_type": "code",
     "collapsed": false,
     "input": [
      "import pandas as pd"
     ],
     "language": "python",
     "metadata": {},
     "outputs": [],
     "prompt_number": 1
    },
    {
     "cell_type": "code",
     "collapsed": false,
     "input": [
      "df = pd.io.pickle.read_pickle(\"labbDF.pkl\")\n",
      "df['name'] = df.apply(lambda row: row['name'].decode('latin-1'), axis=1)"
     ],
     "language": "python",
     "metadata": {},
     "outputs": [],
     "prompt_number": 160
    },
    {
     "cell_type": "code",
     "collapsed": false,
     "input": [
      "print df.head()"
     ],
     "language": "python",
     "metadata": {},
     "outputs": [
      {
       "output_type": "stream",
       "stream": "stdout",
       "text": [
        "     area            name                                               poly  \\\n",
        "0    75.4  Upplands V\u00e4sby  POLYGON ((1103922.593170376 1022495.837027514,...   \n",
        "1   359.7      Vallentuna  POLYGON ((1137678.584388074 1024404.619503576,...   \n",
        "2   310.0       \u00d6ster\u00e5ker  POLYGON ((1176139.12166001 1033496.310143271, ...   \n",
        "4   438.5          V\u00e4rmd\u00f6  POLYGON ((1164922.989820984 976939.4120838717,...   \n",
        "12   50.7        J\u00e4rf\u00e4lla  POLYGON ((1090092.252866263 1014064.051743116,...   \n",
        "\n",
        "    tipsrunda  bins_tipsrunda  \n",
        "0    1.069948               2  \n",
        "1    0.000000              -1  \n",
        "2    0.464148               0  \n",
        "4    0.000000              -1  \n",
        "12   0.326204               0  \n"
       ]
      }
     ],
     "prompt_number": 161
    },
    {
     "cell_type": "code",
     "collapsed": false,
     "input": [
      "df[df['bins_tipsrunda'] == -1].head()"
     ],
     "language": "python",
     "metadata": {},
     "outputs": [
      {
       "html": [
        "<div style=\"max-height:1000px;max-width:1500px;overflow:auto;\">\n",
        "<table border=\"1\" class=\"dataframe\">\n",
        "  <thead>\n",
        "    <tr style=\"text-align: right;\">\n",
        "      <th></th>\n",
        "      <th>area</th>\n",
        "      <th>name</th>\n",
        "      <th>poly</th>\n",
        "      <th>tipsrunda</th>\n",
        "      <th>bins_tipsrunda</th>\n",
        "    </tr>\n",
        "  </thead>\n",
        "  <tbody>\n",
        "    <tr>\n",
        "      <th>1 </th>\n",
        "      <td> 359.7</td>\n",
        "      <td> Vallentuna</td>\n",
        "      <td> POLYGON ((1137678.584388074 1024404.619503576,...</td>\n",
        "      <td> 0</td>\n",
        "      <td>-1</td>\n",
        "    </tr>\n",
        "    <tr>\n",
        "      <th>4 </th>\n",
        "      <td> 438.5</td>\n",
        "      <td>     V\u00e4rmd\u00f6</td>\n",
        "      <td> POLYGON ((1164922.989820984 976939.4120838717,...</td>\n",
        "      <td> 0</td>\n",
        "      <td>-1</td>\n",
        "    </tr>\n",
        "    <tr>\n",
        "      <th>13</th>\n",
        "      <td> 216.0</td>\n",
        "      <td>      Eker\u00f6</td>\n",
        "      <td> POLYGON ((1088225.889478081 984642.190218294, ...</td>\n",
        "      <td> 0</td>\n",
        "      <td>-1</td>\n",
        "    </tr>\n",
        "    <tr>\n",
        "      <th>14</th>\n",
        "      <td> 216.0</td>\n",
        "      <td>      Eker\u00f6</td>\n",
        "      <td> POLYGON ((1068917.783098555 992787.9296804154,...</td>\n",
        "      <td> 0</td>\n",
        "      <td>-1</td>\n",
        "    </tr>\n",
        "    <tr>\n",
        "      <th>15</th>\n",
        "      <td> 216.0</td>\n",
        "      <td>      Eker\u00f6</td>\n",
        "      <td> POLYGON ((1054999.417345152 995986.786836545, ...</td>\n",
        "      <td> 0</td>\n",
        "      <td>-1</td>\n",
        "    </tr>\n",
        "  </tbody>\n",
        "</table>\n",
        "</div>"
       ],
       "metadata": {},
       "output_type": "pyout",
       "prompt_number": 162,
       "text": [
        "     area        name                                               poly  \\\n",
        "1   359.7  Vallentuna  POLYGON ((1137678.584388074 1024404.619503576,...   \n",
        "4   438.5      V\u00e4rmd\u00f6  POLYGON ((1164922.989820984 976939.4120838717,...   \n",
        "13  216.0       Eker\u00f6  POLYGON ((1088225.889478081 984642.190218294, ...   \n",
        "14  216.0       Eker\u00f6  POLYGON ((1068917.783098555 992787.9296804154,...   \n",
        "15  216.0       Eker\u00f6  POLYGON ((1054999.417345152 995986.786836545, ...   \n",
        "\n",
        "    tipsrunda  bins_tipsrunda  \n",
        "1           0              -1  \n",
        "4           0              -1  \n",
        "13          0              -1  \n",
        "14          0              -1  \n",
        "15          0              -1  "
       ]
      }
     ],
     "prompt_number": 162
    },
    {
     "cell_type": "code",
     "collapsed": false,
     "input": [
      "hierarchy = pd.io.excel.read_excel(\"hierarchy.xlsx\")"
     ],
     "language": "python",
     "metadata": {},
     "outputs": [],
     "prompt_number": 163
    },
    {
     "cell_type": "code",
     "collapsed": false,
     "input": [
      "def getMuni(df, level, key):\n",
      "    return df.groupby(level).get_group(key)['Kommun'].unique()\n",
      "\n",
      "def getParent(df, municipality, level):\n",
      "    try:\n",
      "        key = hierarchy.loc[hierarchy[u'Kommun'] == municipality][level].values[0]\n",
      "        if not key == \"-\":\n",
      "            munis = getMuni(hierarchy, level, key)\n",
      "            return key, round(df.loc[df['name'].isin(munis)]['bins_tipsrunda'].mean())\n",
      "    except IndexError:\n",
      "        return None, None"
     ],
     "language": "python",
     "metadata": {},
     "outputs": [],
     "prompt_number": 164
    },
    {
     "cell_type": "code",
     "collapsed": false,
     "input": [
      "print getMuni(hierarchy, u\"Stadsomland\", u\"Stockholm\")"
     ],
     "language": "python",
     "metadata": {},
     "outputs": [
      {
       "output_type": "stream",
       "stream": "stdout",
       "text": [
        "[u'Botkyrka' u'Danderyd' u'Eker\\xf6' u'Haninge' u'Huddinge' u'H\\xe5bo'\n",
        " u'J\\xe4rf\\xe4lla' u'Liding\\xf6' u'Nacka' u'Nyn\\xe4shamn' u'Salem'\n",
        " u'Sigtuna' u'Sollentuna' u'Solna' u'Stockholm' u'Sundbyberg' u'Tyres\\xf6'\n",
        " u'T\\xe4by' u'Upplands-Bro' u'Vallentuna' u'Vaxholm' u'V\\xe4rmd\\xf6'\n",
        " u'\\xd6ster\\xe5ker']\n"
       ]
      }
     ],
     "prompt_number": 165
    },
    {
     "cell_type": "code",
     "collapsed": false,
     "input": [
      "print hierarchy.columns\n",
      "\n",
      "# Every municipality that has no hits\n",
      "for muni in df[df['bins_tipsrunda'] == -1]['name'].unique():\n",
      "    print getParent(df, muni, u\"Stadsomland\")\n",
      "    key, mean = getParent(df, muni, u\"Stadsomland\")\n",
      "    print muni, \"->\", key, mean"
     ],
     "language": "python",
     "metadata": {},
     "outputs": [
      {
       "output_type": "stream",
       "stream": "stdout",
       "text": [
        "Index([u'Landsdel', u'Kommun', u'L\u00e4n', u'Landskap', u'A-region', u'LA-region2010_(SE),_2004_(FI)', u'FA-region_(NUTEK),_Ek._reg.2010_(FI)', u'Nystuen-Dacey-region_2006_([SCB_2010_\u201dLokala_arbetsmarknader_\u2013_egenskaper,_utveckling_och_funktion\u201d])', u'P-region_(mina_egna_allts\u00e5)', u'Stadsomland', u'tidningsdistrikt', u'Gymnasieort', u'postnummeromr\u00e5de_(modifierat)', u'inv', u'postnr', u'riktnr', u'Hovr\u00e4tt', u'SVT', u'stift (SE), prosteri (FI)', u'domsaga', u'valkrets', u'lokalradio', u'Skatteregion (SE),,Skattebyr\u00e5 (FI)', u'tidning', u'klassificering', u'Centralort', u'Arena f\u00f6r minst 10k', u'SR-kanal', u'Bio (SF_bio eller Svenska Bio)', u'Skatteverket', u'ITPS [=Klassificering enligt ITPS (=Insitutet f\u00f6r tillv\u00e4xtpolitiska studier), f\u00f6rmodligen ytterst fr\u00e5n SCB. 1=\u201dstorstad\u201d; 0,6=\u201dregionalt centrum\u201d; 0,5=dito delat med annan ort; 0,4=\u201dlokalt centrum\u201d.]', u'F\u00f6rm\u00f6genhet', u'Bef-tillv\u00e4xt [Befolkning 2008 som andel av befolkningen 1950]', u'Inv 2005 (t\u00e4tort) (Om centralorten ing\u00e5r i annan kommuns t\u00e4tort (typiskt f\u00f6r storst\u00e4dernas kranskommuner), anges hela kommunens inv\u00e5narantal. [I Jakobsbergs fall tog jag \u201dKommundelen\u201d med detta namn])', u'kommun', u'Privat lokalradio', u'Stads\u00adr\u00e4ttig\u00adheter', u'SVT-redaktion (0,5=lokal nyhetsproduktion)', u'RFSL-avd', u'Metro distribueras', u'IKEA-varuhus', u'Burgare (en tv\u00e5 eller tre av Donken, Max och B\u00f6g Birger) Jag borde ta med Frasses ocks\u00e5, f\u00f6r det \u00e4r den fj\u00e4rde st\u00f6rsta', u'system-/alkobutik (2012)', u'sjukhus', u'region\u00adsjuk\u00adhus', u'Kansli\u00adort=1;; tings\u00adst\u00e4lle=0,5', u'Residens\u00adstad', u'Universitet [=0,7=nyuniversitet/h\u00f6gskola; dito delad med anan ort=0,5]', u'Stiftsstad', u'gymnasium (1=Ja; 0,5=Mkt be\u00adgr\u00e4n\u00adsat ut\u00adbud; utbildningsinfo.se)', u'Huvud\u00adkom\u00admun i A-region', u'Huvud\u00adkom\u00admun i LA-region2010', u'Huvud\u00adkom\u00admun i FA-region (NUTEK)', u'egen dags\u00adtid\u00adning', u'efter\u00adgym\u00adna\u00adsial utb 2010', u'f\u00f6r\u00adv\u00e4rvs\u00adin\u00adkomst 2009', u'nettoinpendling 2009 i % av arbetskraften', u'centrum map A-region', u'centrum map LA-region2010', u'centrum map FA-region (NUTEK)', u'tid\u00ad\u00adnings\u00adcentrum 1', u'tid\u00adnings\u00adcentrum 2', u'tings\u00adr\u00e4tts\u00adcentrum', u'region\u00adsjuk\u00adhus.1', u'vilken Metro-edition?'], dtype='object')\n",
        "Vallentuna -> Stockholm -1.0\n",
        "V\u00e4rmd\u00f6 -> Stockholm -1.0\n",
        "Eker\u00f6 -> Stockholm -1.0\n",
        "Huddinge -> Stockholm -1.0\n",
        "Botkyrka -> Stockholm -1.0\n",
        "Salem -> Stockholm -1.0\n",
        "Upplands-Bro -> Stockholm -1.0\n",
        "Nykvarn -> S\u00f6dert\u00e4lje -1.0\n",
        "T\u00e4by"
       ]
      },
      {
       "output_type": "stream",
       "stream": "stdout",
       "text": [
        " -> Stockholm -1.0\n",
        "Danderyd -> Stockholm -1.0\n",
        "Sollentuna -> Stockholm -1.0\n",
        "S\u00f6dert\u00e4lje -> S\u00f6dert\u00e4lje -1.0\n",
        "Nacka -> Stockholm -1.0\n",
        "Sundbyberg -> Stockholm -1.0\n",
        "Liding\u00f6 -> Stockholm -1.0\n",
        "Vaxholm -> Stockholm -1.0\n",
        "Sigtuna -> Stockholm -1.0\n",
        "Nyn\u00e4shamn -> Stockholm -1.0\n",
        "H\u00e5bo -> Stockholm -1.0\n",
        "\u00c4lvkarleby -> G\u00e4vle 0.0\n",
        "Knivsta -> Uppsala 1.0\n"
       ]
      },
      {
       "ename": "TypeError",
       "evalue": "'NoneType' object is not iterable",
       "output_type": "pyerr",
       "traceback": [
        "\u001b[0;31m---------------------------------------------------------------------------\u001b[0m\n\u001b[0;31mTypeError\u001b[0m                                 Traceback (most recent call last)",
        "\u001b[0;32m<ipython-input-167-2d638a595d79>\u001b[0m in \u001b[0;36m<module>\u001b[0;34m()\u001b[0m\n\u001b[1;32m      3\u001b[0m \u001b[0;31m# Every municipality that has no hits\u001b[0m\u001b[0;34m\u001b[0m\u001b[0;34m\u001b[0m\u001b[0m\n\u001b[1;32m      4\u001b[0m \u001b[0;32mfor\u001b[0m \u001b[0mmuni\u001b[0m \u001b[0;32min\u001b[0m \u001b[0mdf\u001b[0m\u001b[0;34m[\u001b[0m\u001b[0mdf\u001b[0m\u001b[0;34m[\u001b[0m\u001b[0;34m'bins_tipsrunda'\u001b[0m\u001b[0;34m]\u001b[0m \u001b[0;34m==\u001b[0m \u001b[0;34m-\u001b[0m\u001b[0;36m1\u001b[0m\u001b[0;34m]\u001b[0m\u001b[0;34m[\u001b[0m\u001b[0;34m'name'\u001b[0m\u001b[0;34m]\u001b[0m\u001b[0;34m.\u001b[0m\u001b[0munique\u001b[0m\u001b[0;34m(\u001b[0m\u001b[0;34m)\u001b[0m\u001b[0;34m:\u001b[0m\u001b[0;34m\u001b[0m\u001b[0m\n\u001b[0;32m----> 5\u001b[0;31m     \u001b[0mkey\u001b[0m\u001b[0;34m,\u001b[0m \u001b[0mmean\u001b[0m \u001b[0;34m=\u001b[0m \u001b[0mgetParent\u001b[0m\u001b[0;34m(\u001b[0m\u001b[0mdf\u001b[0m\u001b[0;34m,\u001b[0m \u001b[0mmuni\u001b[0m\u001b[0;34m,\u001b[0m \u001b[0;34mu\"Stadsomland\"\u001b[0m\u001b[0;34m)\u001b[0m\u001b[0;34m\u001b[0m\u001b[0m\n\u001b[0m\u001b[1;32m      6\u001b[0m     \u001b[0;32mprint\u001b[0m \u001b[0mmuni\u001b[0m\u001b[0;34m,\u001b[0m \u001b[0;34m\"->\"\u001b[0m\u001b[0;34m,\u001b[0m \u001b[0mkey\u001b[0m\u001b[0;34m,\u001b[0m \u001b[0mmean\u001b[0m\u001b[0;34m\u001b[0m\u001b[0m\n",
        "\u001b[0;31mTypeError\u001b[0m: 'NoneType' object is not iterable"
       ]
      }
     ],
     "prompt_number": 167
    },
    {
     "cell_type": "code",
     "collapsed": false,
     "input": [],
     "language": "python",
     "metadata": {},
     "outputs": [],
     "prompt_number": 166
    },
    {
     "cell_type": "code",
     "collapsed": false,
     "input": [],
     "language": "python",
     "metadata": {},
     "outputs": []
    }
   ],
   "metadata": {}
  }
 ]
}