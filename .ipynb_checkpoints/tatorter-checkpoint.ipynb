{
 "metadata": {
  "name": "",
  "signature": "sha256:6f26798966194649467fe61093361335bb79214d299798d8ab12d6ae54060dc2"
 },
 "nbformat": 3,
 "nbformat_minor": 0,
 "worksheets": [
  {
   "cells": [
    {
     "cell_type": "code",
     "collapsed": false,
     "input": [
      "import pandas as pd\n",
      "\n",
      "df = pd.read_csv(\"tatorter.txt\", header=None)\n",
      "df.columns = ['town']\n",
      "\n",
      "def find_features(s):\n",
      "    feats = [s[i:i+3] for i in xrange(len(s)-2)] \n",
      "    return feats\n",
      "\n",
      "features = []\n",
      "for town in df['town'].values:\n",
      "    features.extend(find_features(town.lower()))\n",
      "\n",
      "features = list(set(features))"
     ],
     "language": "python",
     "metadata": {},
     "outputs": [],
     "prompt_number": 1
    },
    {
     "cell_type": "code",
     "collapsed": false,
     "input": [
      "final_features = []\n",
      "occurances = []\n",
      "for feature in features:\n",
      "    try:\n",
      "        final_features.append(feature)\n",
      "        occurances.append(sum(df['town'].str.contains(feature)))\n",
      "    except:\n",
      "        pass"
     ],
     "language": "python",
     "metadata": {},
     "outputs": []
    },
    {
     "cell_type": "code",
     "collapsed": false,
     "input": [
      "print len(occurances), len(final_features)"
     ],
     "language": "python",
     "metadata": {},
     "outputs": []
    },
    {
     "cell_type": "code",
     "collapsed": false,
     "input": [
      "df_features = pd.DataFrame({'feature': final_features, \n",
      "                            'occurances': occurances })"
     ],
     "language": "python",
     "metadata": {},
     "outputs": []
    }
   ],
   "metadata": {}
  }
 ]
}