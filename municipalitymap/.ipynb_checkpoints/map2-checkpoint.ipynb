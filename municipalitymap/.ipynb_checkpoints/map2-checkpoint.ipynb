{
 "metadata": {
  "name": "",
  "signature": "sha256:944c7070e3c2fce4cd71f794fe9b5d70fb7d2ddc78e3566ee3e515389fda0bcc"
 },
 "nbformat": 3,
 "nbformat_minor": 0,
 "worksheets": [
  {
   "cells": [
    {
     "cell_type": "code",
     "collapsed": false,
     "input": [
      "import matplotlib.pyplot as plt\n",
      "import numpy as np\n",
      "import pandas as pd\n",
      "from mpl_toolkits.basemap import Basemap\n",
      "from mpl_toolkits.axes_grid1 import make_axes_locatable\n",
      "from shapely.geometry import Point, Polygon, MultiPoint, MultiPolygon\n",
      "from shapely.prepared import prep\n",
      "from matplotlib.collections import PatchCollection\n",
      "from descartes import PolygonPatch\n",
      "import json\n",
      "import datetime\n",
      "from pysal.esda.mapclassify import Natural_Breaks\n",
      "%matplotlib inline"
     ],
     "language": "python",
     "metadata": {},
     "outputs": [],
     "prompt_number": 1
    },
    {
     "cell_type": "code",
     "collapsed": false,
     "input": [
      "lats = [55.6]*1000 + [59]*30 + [59.329323, 59.329323, 59.329323, 59.329323, 59.329323, 52, 49, 50, 51, 55.329323, 55.329323, 55.329323, 60.329323, 59.329323, 55.329323, 60.329323, 63.329323, 54.329323, 54.329323, 58.329323, 60.329323, 60.329323, 60.329323]\n",
      "lons = [13.0]*1000 + [17]*30 + [18.068581, 18.068581, 18.068581, 15.068581, 18.068581, 14, 16, 17, 18, 18.068581, 16.068581, 18.068581, 18.068581, 16.068581, 13.068581, 17.068581, 15.068581, 15.068581, 15.068581, 15.068581, 15.068581, 15.068581, 15.068581] \n",
      "ld = pd.DataFrame({'latitude' : lats, 'longitude' : lons})\n",
      "\n",
      "llcrnrlon = 8\n",
      "llcrnrlat = 54.5\n",
      "urcrnrlon = 26\n",
      "urcrnrlat = 69.5"
     ],
     "language": "python",
     "metadata": {},
     "outputs": [],
     "prompt_number": 2
    },
    {
     "cell_type": "code",
     "collapsed": false,
     "input": [
      "m = Basemap(projection='merc',\n",
      "            resolution = 'i', \n",
      "            area_thresh=500,\n",
      "            llcrnrlon=llcrnrlon, \n",
      "            llcrnrlat=llcrnrlat,\n",
      "            urcrnrlon=urcrnrlon, \n",
      "            urcrnrlat=urcrnrlat) \n",
      "    \n",
      "_out = m.readshapefile('data/alla_lan/alla_lan_Std', name='countys', drawbounds=False, color='none', zorder=2)\n",
      "_out = m.readshapefile('data/Kommuner_SCB/Kommuner_SCB_Std', name='muni', drawbounds=False, color='none', zorder=3)\n",
      "\n",
      "#for info, shape in zip(m.countys_info, m.countys)[0:5]:\n",
      "#    print info"
     ],
     "language": "python",
     "metadata": {},
     "outputs": [],
     "prompt_number": 3
    },
    {
     "cell_type": "code",
     "collapsed": false,
     "input": [
      "df_map_muni = pd.DataFrame({\n",
      "    'poly': [Polygon(muni_points) for muni_points in m.muni],\n",
      "    'name': [r['KNNAMN'] for r in m.muni_info],\n",
      "    'area': [r['LANDAREAKM'] for r in m.muni_info]\n",
      "})\n",
      "\n",
      "df_map_county = pd.DataFrame({\n",
      "    'poly': [Polygon(countys_points) for countys_points in m.countys],\n",
      "    'name': [r['LAN_NAMN'] for r in m.countys_info]\n",
      "})\n",
      "\n",
      "# Convert our latitude and longitude into Basemap cartesian map coordinates\n",
      "mapped_points = [Point(m(mapped_x, mapped_y)) for mapped_x, mapped_y in zip(ld['longitude'], ld['latitude'])]\n",
      "all_points = MultiPoint(mapped_points)\n",
      "\n",
      "# Use prep to optimize polygons for faster computation\n",
      "hood_polygons_county = prep(MultiPolygon(list(df_map_county['poly'].values)))\n",
      "hood_polygons_muni = prep(MultiPolygon(list(df_map_muni['poly'].values)))\n",
      "\n",
      "# Filter out the points that do not fall within the map we're making\n",
      "mapped_points_county = filter(hood_polygons_county.contains, all_points)\n",
      "mapped_points_muni = filter(hood_polygons_muni.contains, all_points)"
     ],
     "language": "python",
     "metadata": {},
     "outputs": [],
     "prompt_number": 4
    },
    {
     "cell_type": "code",
     "collapsed": false,
     "input": [
      "def num_of_contained_points(apolygon, mapped_points):\n",
      "    return int(len(filter(prep(apolygon).contains, mapped_points)))\n",
      "\n",
      "df_map_county['hood_count'] = df_map_county['poly'].apply(num_of_contained_points, args=(mapped_points_county,))\n",
      "df_map_muni['hood_count'] = df_map_muni['poly'].apply(num_of_contained_points, args=(mapped_points_muni,))\n",
      "\n",
      "print df_map_county[df_map_county['hood_count'] > 0]\n",
      "print df_map_muni[df_map_muni['hood_count'] > 0]"
     ],
     "language": "python",
     "metadata": {},
     "outputs": [
      {
       "output_type": "stream",
       "stream": "stdout",
       "text": [
        "                 name                                               poly  \\\n",
        "0      Stockholms l\ufffdn  POLYGON ((1215297.054805774 1181428.522957768,...   \n",
        "1         Uppsala l\ufffdn  POLYGON ((1071427.401705861 1279516.803088598,...   \n",
        "2   S\ufffddermanlands l\ufffdn  POLYGON ((1016742.916489228 1025336.475001307,...   \n",
        "3   \ufffdsterg\ufffdtlands l\ufffdn  POLYGON ((875274.2173178936 911741.4699156685,...   \n",
        "12          Sk\ufffdne l\ufffdn  POLYGON ((679086.6609998246 398664.0677698916,...   \n",
        "17         \ufffdrebro l\ufffdn  POLYGON ((761842.0268071172 1155934.45554056, ...   \n",
        "19       Dalarnas l\ufffdn  POLYGON ((504310.7758347365 1645800.283642279,...   \n",
        "20     G\ufffdvleborgs l\ufffdn  POLYGON ((912234.1842273293 1648399.633444386,...   \n",
        "26      J\ufffdmtlands l\ufffdn  POLYGON ((748466.2322845767 2328351.152998623,...   \n",
        "\n",
        "    hood_count  \n",
        "0            4  \n",
        "1            1  \n",
        "2           31  \n",
        "3            1  \n",
        "12        1000  \n",
        "17           1  \n",
        "19           3  \n",
        "20           1  \n",
        "26           1  \n",
        "       area        name                                               poly  \\\n",
        "30    187.5   Stockholm  POLYGON ((1119352.100771659 984261.368693742, ...   \n",
        "50   1451.4   \ufffdsthammar  POLYGON ((1161190.093135822 1226327.725457344,...   \n",
        "53   1450.0    Nyk\ufffdping  POLYGON ((1045646.983593006 869024.7997435713,...   \n",
        "57   1099.0  Eskilstuna  POLYGON ((957000.5602604025 1011711.336753467,...   \n",
        "72    550.5      Mj\ufffdlby  POLYGON ((801672.4056046841 752912.4169719983,...   \n",
        "133   153.7       Malm\ufffd  POLYGON ((553321.6819336176 214495.8115988653,...   \n",
        "228  1373.7      \ufffdrebro  POLYGON ((785042.7827540152 953713.2830827078,...   \n",
        "259  1500.7     Ludvika  POLYGON ((710336.8212050212 1191622.503710065,...   \n",
        "265  1603.5       G\ufffdvle  POLYGON ((986841.0234666575 1342330.611834034,...   \n",
        "284  2228.0   \ufffdstersund  POLYGON ((832389.4949343251 1922904.038281774,...   \n",
        "\n",
        "     hood_count  \n",
        "30            4  \n",
        "50            1  \n",
        "53           30  \n",
        "57            1  \n",
        "72            1  \n",
        "133        1000  \n",
        "228           1  \n",
        "259           3  \n",
        "265           1  \n",
        "284           1  \n"
       ]
      }
     ],
     "prompt_number": 5
    },
    {
     "cell_type": "code",
     "collapsed": false,
     "input": [
      "def custom_colorbar(cmap, ncolors, labels, **kwargs):    \n",
      "    \"\"\"Create a custom, discretized colorbar with correctly formatted/aligned labels.\n",
      "    \n",
      "    cmap: the matplotlib colormap object you plan on using for your graph\n",
      "    ncolors: (int) the number of discrete colors available\n",
      "    labels: the list of labels for the colorbar. Should be the same length as ncolors.\n",
      "    \"\"\"\n",
      "    from matplotlib.colors import BoundaryNorm\n",
      "    from matplotlib.cm import ScalarMappable\n",
      "        \n",
      "    norm = BoundaryNorm(range(0, ncolors), cmap.N)\n",
      "    mappable = ScalarMappable(cmap=cmap, norm=norm)\n",
      "    mappable.set_array([])\n",
      "    mappable.set_clim(-0.5, ncolors+0.5)\n",
      "    colorbar = plt.colorbar(mappable, **kwargs)\n",
      "    colorbar.set_ticks(np.linspace(0, ncolors, ncolors+1)+0.5)\n",
      "    colorbar.set_ticklabels(range(0, ncolors))\n",
      "    colorbar.set_ticklabels(labels)\n",
      "    return colorbar\n",
      "\n",
      "def opacify(cmap):\n",
      "    cmap._init()\n",
      "    alphas = np.abs(np.linspace(0, 1.0, cmap.N))\n",
      "    cmap._lut[:-3,-1] = alphas\n",
      "    return cmap"
     ],
     "language": "python",
     "metadata": {},
     "outputs": [],
     "prompt_number": 6
    },
    {
     "cell_type": "code",
     "collapsed": false,
     "input": [
      "\"\"\" \n",
      "# We'll only use a handful of distinct colors for our choropleth. So pick where\n",
      "# you want your cutoffs to occur. Leave zero and ~infinity alone.\n",
      "breaks = [0.] + [4., 24., 64., 135.] + [1e20]\n",
      "def self_categorize(entry, breaks):\n",
      "    for i in range(len(breaks)-1):\n",
      "        if entry > breaks[i] and entry <= breaks[i+1]:\n",
      "            return i\n",
      "    return -1\n",
      "\n",
      "df_map['jenks_bins'] = df_map.hood_count.apply(self_categorize, args=(breaks,))\n",
      " \n",
      "labels = ['Never been\\nhere']+[\"> %d hours\"%(perc) for perc in breaks[:-1]]\n",
      "\"\"\""
     ],
     "language": "python",
     "metadata": {},
     "outputs": [
      {
       "metadata": {},
       "output_type": "pyout",
       "prompt_number": 7,
       "text": [
        "' \\n# We\\'ll only use a handful of distinct colors for our choropleth. So pick where\\n# you want your cutoffs to occur. Leave zero and ~infinity alone.\\nbreaks = [0.] + [4., 24., 64., 135.] + [1e20]\\ndef self_categorize(entry, breaks):\\n    for i in range(len(breaks)-1):\\n        if entry > breaks[i] and entry <= breaks[i+1]:\\n            return i\\n    return -1\\n\\ndf_map[\\'jenks_bins\\'] = df_map.hood_count.apply(self_categorize, args=(breaks,))\\n \\nlabels = [\\'Never been\\nhere\\']+[\"> %d hours\"%(perc) for perc in breaks[:-1]]\\n'"
       ]
      }
     ],
     "prompt_number": 7
    },
    {
     "cell_type": "code",
     "collapsed": false,
     "input": [
      "# Or, you could always use Natural_Breaks to calculate your breaks for you:\n",
      "breaks = Natural_Breaks(df_map_county[df_map_county['hood_count'] > 0].hood_count, initial=300, k=3)\n",
      "df_map_county['jenks_bins'] = -1 # default value if no data exists for this bin \n",
      "df_map_county['jenks_bins'][df_map_county.hood_count > 0] = breaks.yb\n",
      " \n",
      "jenks_labels = ['0', \"> 0\"]+[\"> %d\"%(perc) for perc in breaks.bins[:-1]]\n",
      " \n",
      "fig = plt.figure(figsize=(3.25,6))\n",
      "ax = fig.add_subplot(111, axisbg='w', frame_on=False)\n",
      " \n",
      "cmap = plt.get_cmap('Blues')\n",
      "cmap = opacify(cmap)\n",
      "# draw neighborhoods with grey outlines\n",
      "df_map_county['patches'] = df_map_county['poly'].map(lambda x: PolygonPatch(x, ec='#111111', lw=0, alpha=0, zorder=4))\n",
      "pc = PatchCollection(df_map_county['patches'], match_original=True)\n",
      "# apply our custom color values onto the patch collection\n",
      "cmap_list = [cmap(val) for val in (df_map_county.jenks_bins.values - df_map_county.jenks_bins.values.min())/(\n",
      "                                   df_map_county.jenks_bins.values.max()-float(df_map_county.jenks_bins.values.min()))]\n",
      "pc.set_facecolor(cmap_list)\n",
      "ax.add_collection(pc)\n",
      " \n",
      "# ncolors+1 because we're using a \"zero-th\" color\n",
      "cbar = custom_colorbar(cmap, ncolors=len(jenks_labels)+1, labels=jenks_labels, shrink=0.4)\n",
      "cbar.ax.tick_params(labelsize=6)\n",
      "\n",
      "\n",
      "m.drawcoastlines(linewidth=0.5)\n",
      "m.drawcountries()\n",
      "m.drawstates()\n",
      "m.drawmapboundary()\n",
      "m.fillcontinents(color='white', lake_color='black', zorder=0)\n",
      "m.drawmapboundary(fill_color='black')\n",
      "\n",
      "plt.plot()\n",
      "plt.savefig('chloropleth.pdf', dpi=100, bbox_inches='tight')"
     ],
     "language": "python",
     "metadata": {},
     "outputs": [
      {
       "ename": "ImportError",
       "evalue": "No module named pysal.esda.mapclassify",
       "output_type": "pyerr",
       "traceback": [
        "\u001b[0;31m---------------------------------------------------------------------------\u001b[0m\n\u001b[0;31mImportError\u001b[0m                               Traceback (most recent call last)",
        "\u001b[0;32m<ipython-input-8-f60e30943cf2>\u001b[0m in \u001b[0;36m<module>\u001b[0;34m()\u001b[0m\n\u001b[1;32m      1\u001b[0m \u001b[0;31m# Or, you could always use Natural_Breaks to calculate your breaks for you:\u001b[0m\u001b[0;34m\u001b[0m\u001b[0;34m\u001b[0m\u001b[0m\n\u001b[0;32m----> 2\u001b[0;31m \u001b[0;32mfrom\u001b[0m \u001b[0mpysal\u001b[0m\u001b[0;34m.\u001b[0m\u001b[0mesda\u001b[0m\u001b[0;34m.\u001b[0m\u001b[0mmapclassify\u001b[0m \u001b[0;32mimport\u001b[0m \u001b[0mNatural_Breaks\u001b[0m\u001b[0;34m\u001b[0m\u001b[0m\n\u001b[0m\u001b[1;32m      3\u001b[0m \u001b[0mbreaks\u001b[0m \u001b[0;34m=\u001b[0m \u001b[0mNatural_Breaks\u001b[0m\u001b[0;34m(\u001b[0m\u001b[0mdf_map_county\u001b[0m\u001b[0;34m[\u001b[0m\u001b[0mdf_map_county\u001b[0m\u001b[0;34m[\u001b[0m\u001b[0;34m'hood_count'\u001b[0m\u001b[0;34m]\u001b[0m \u001b[0;34m>\u001b[0m \u001b[0;36m0\u001b[0m\u001b[0;34m]\u001b[0m\u001b[0;34m.\u001b[0m\u001b[0mhood_count\u001b[0m\u001b[0;34m,\u001b[0m \u001b[0minitial\u001b[0m\u001b[0;34m=\u001b[0m\u001b[0;36m300\u001b[0m\u001b[0;34m,\u001b[0m \u001b[0mk\u001b[0m\u001b[0;34m=\u001b[0m\u001b[0;36m3\u001b[0m\u001b[0;34m)\u001b[0m\u001b[0;34m\u001b[0m\u001b[0m\n\u001b[1;32m      4\u001b[0m \u001b[0mdf_map_county\u001b[0m\u001b[0;34m[\u001b[0m\u001b[0;34m'jenks_bins'\u001b[0m\u001b[0;34m]\u001b[0m \u001b[0;34m=\u001b[0m \u001b[0;34m-\u001b[0m\u001b[0;36m1\u001b[0m \u001b[0;31m# default value if no data exists for this bin\u001b[0m\u001b[0;34m\u001b[0m\u001b[0m\n\u001b[1;32m      5\u001b[0m \u001b[0mdf_map_county\u001b[0m\u001b[0;34m[\u001b[0m\u001b[0;34m'jenks_bins'\u001b[0m\u001b[0;34m]\u001b[0m\u001b[0;34m[\u001b[0m\u001b[0mdf_map_county\u001b[0m\u001b[0;34m.\u001b[0m\u001b[0mhood_count\u001b[0m \u001b[0;34m>\u001b[0m \u001b[0;36m0\u001b[0m\u001b[0;34m]\u001b[0m \u001b[0;34m=\u001b[0m \u001b[0mbreaks\u001b[0m\u001b[0;34m.\u001b[0m\u001b[0myb\u001b[0m\u001b[0;34m\u001b[0m\u001b[0m\n",
        "\u001b[0;31mImportError\u001b[0m: No module named pysal.esda.mapclassify"
       ]
      }
     ],
     "prompt_number": 8
    },
    {
     "cell_type": "code",
     "collapsed": false,
     "input": [],
     "language": "python",
     "metadata": {},
     "outputs": [],
     "prompt_number": 8
    },
    {
     "cell_type": "code",
     "collapsed": false,
     "input": [],
     "language": "python",
     "metadata": {},
     "outputs": [],
     "prompt_number": 8
    },
    {
     "cell_type": "code",
     "collapsed": false,
     "input": [],
     "language": "python",
     "metadata": {},
     "outputs": [],
     "prompt_number": 247
    },
    {
     "cell_type": "code",
     "collapsed": false,
     "input": [],
     "language": "python",
     "metadata": {},
     "outputs": [],
     "prompt_number": 247
    },
    {
     "cell_type": "code",
     "collapsed": false,
     "input": [],
     "language": "python",
     "metadata": {},
     "outputs": [],
     "prompt_number": 247
    },
    {
     "cell_type": "code",
     "collapsed": false,
     "input": [],
     "language": "python",
     "metadata": {},
     "outputs": [],
     "prompt_number": 247
    },
    {
     "cell_type": "code",
     "collapsed": false,
     "input": [],
     "language": "python",
     "metadata": {},
     "outputs": [],
     "prompt_number": 247
    },
    {
     "cell_type": "code",
     "collapsed": false,
     "input": [],
     "language": "python",
     "metadata": {},
     "outputs": [],
     "prompt_number": 247
    },
    {
     "cell_type": "code",
     "collapsed": false,
     "input": [],
     "language": "python",
     "metadata": {},
     "outputs": [],
     "prompt_number": 247
    },
    {
     "cell_type": "code",
     "collapsed": false,
     "input": [],
     "language": "python",
     "metadata": {},
     "outputs": [],
     "prompt_number": 247
    },
    {
     "cell_type": "code",
     "collapsed": false,
     "input": [],
     "language": "python",
     "metadata": {},
     "outputs": [],
     "prompt_number": 247
    },
    {
     "cell_type": "code",
     "collapsed": false,
     "input": [],
     "language": "python",
     "metadata": {},
     "outputs": [],
     "prompt_number": 247
    },
    {
     "cell_type": "code",
     "collapsed": false,
     "input": [],
     "language": "python",
     "metadata": {},
     "outputs": [],
     "prompt_number": 247
    },
    {
     "cell_type": "code",
     "collapsed": false,
     "input": [],
     "language": "python",
     "metadata": {},
     "outputs": [],
     "prompt_number": 247
    }
   ],
   "metadata": {}
  }
 ]
}